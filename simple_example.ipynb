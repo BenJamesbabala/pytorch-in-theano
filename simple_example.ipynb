{
 "cells": [
  {
   "cell_type": "code",
   "execution_count": null,
   "metadata": {
    "collapsed": true
   },
   "outputs": [],
   "source": [
    "import os\n",
    "os.environ['THEANORC'] = './theanorc_cpu'\n",
    "\n",
    "import torch\n",
    "import torch.nn as nn\n",
    "import theano\n",
    "import numpy as np\n",
    "import theano.tensor as T\n",
    "\n",
    "print (torch.__version__, theano.__version__)"
   ]
  },
  {
   "cell_type": "code",
   "execution_count": null,
   "metadata": {
    "collapsed": true
   },
   "outputs": [],
   "source": [
    "from ops import pytorch_wrapper"
   ]
  },
  {
   "cell_type": "markdown",
   "metadata": {},
   "source": [
    "# Simple example"
   ]
  },
  {
   "cell_type": "code",
   "execution_count": null,
   "metadata": {
    "collapsed": true
   },
   "outputs": [],
   "source": [
    "dtype = torch.FloatTensor\n",
    "\n",
    "# We use neural networks for testing, but you can use any function from pytorch\n",
    "net = nn.Sequential(nn.Conv2d(3,4,5)).type(dtype)\n",
    "x = np.random.rand(2,3,13,13).astype(np.float32)"
   ]
  },
  {
   "cell_type": "markdown",
   "metadata": {},
   "source": [
    "#### Get output and grad in pytorch"
   ]
  },
  {
   "cell_type": "code",
   "execution_count": null,
   "metadata": {
    "collapsed": true
   },
   "outputs": [],
   "source": [
    "# Forward\n",
    "input = torch.autograd.Variable(dtype(x), requires_grad=True)\n",
    "out_var = net(input).sum()\n",
    "\n",
    "# Backward\n",
    "out_var.backward()\n",
    "\n",
    "input_grad_pytorch = input.grad.data.numpy()\n",
    "out_pytorch = out_var.data.numpy()"
   ]
  },
  {
   "cell_type": "markdown",
   "metadata": {},
   "source": [
    "#### Now try to get the same values using theano"
   ]
  },
  {
   "cell_type": "code",
   "execution_count": null,
   "metadata": {
    "collapsed": true,
    "scrolled": true
   },
   "outputs": [],
   "source": [
    "# Wrap forward pass\n",
    "f = pytorch_wrapper(net, dtype=dtype, debug=True)\n",
    "\n",
    "# Create theano graph\n",
    "xt = T.tensor4('x')\n",
    "yt = f(xt).sum()\n",
    "gy = T.grad(yt, xt)\n",
    "\n",
    "# Define function\n",
    "f_grad = theano.function([xt], gy, on_unused_input='warn')\n",
    "f_out = theano.function([xt], yt, on_unused_input='warn')"
   ]
  },
  {
   "cell_type": "code",
   "execution_count": null,
   "metadata": {
    "collapsed": true,
    "scrolled": true
   },
   "outputs": [],
   "source": [
    "out_theano = f_out(x)"
   ]
  },
  {
   "cell_type": "code",
   "execution_count": null,
   "metadata": {
    "collapsed": true,
    "scrolled": true
   },
   "outputs": [],
   "source": [
    "input_grad_theano = f_grad(x)"
   ]
  },
  {
   "cell_type": "code",
   "execution_count": null,
   "metadata": {
    "collapsed": true
   },
   "outputs": [],
   "source": [
    "assert np.isclose(out_theano, out_pytorch), 'Outputs do not match'\n",
    "assert np.all(np.isclose(input_grad_theano, input_grad_pytorch)), 'Grads do not match'"
   ]
  },
  {
   "cell_type": "markdown",
   "metadata": {},
   "source": [
    "# Test 2"
   ]
  },
  {
   "cell_type": "markdown",
   "metadata": {},
   "source": [
    "AIS but with dummy network"
   ]
  },
  {
   "cell_type": "code",
   "execution_count": null,
   "metadata": {
    "collapsed": true
   },
   "outputs": [],
   "source": [
    "import h5py\n",
    "f = h5py.File('/sdh/data_fuel/mnist.hdf5')\n",
    "\n",
    "num_test = 4\n",
    "num_samples= 2\n",
    "\n",
    "X = f['features'].value[60000:]\n",
    "\n",
    "permutation = np.random.RandomState(seed=2919).permutation(X.shape[0])\n",
    "X= X[permutation][:num_test]"
   ]
  },
  {
   "cell_type": "code",
   "execution_count": null,
   "metadata": {
    "collapsed": true,
    "scrolled": true
   },
   "outputs": [],
   "source": [
    "dtype = torch.cuda.FloatTensor\n",
    "net = nn.Sequential(nn.ConvTranspose2d(10,1,32))\n",
    "net(torch.autograd.Variable(torch.zeros(2,10,1,1))).size()"
   ]
  },
  {
   "cell_type": "code",
   "execution_count": null,
   "metadata": {
    "collapsed": true,
    "scrolled": true
   },
   "outputs": [],
   "source": [
    "class NetWrapper(nn.Module):\n",
    "    '''\n",
    "        The AIS code needs samples to be of shape (B x 32^2)\n",
    "        But my network produces (B x 32 x 32)\n",
    "        So we use this wrapper.\n",
    "    '''\n",
    "    def __init__(self, net):\n",
    "        super(NetWrapper, self).__init__()\n",
    "        self.net = net\n",
    "        \n",
    "    def forward(self, x):\n",
    "        return self.net(x.view(-1,10,1,1)).view(-1,32*32) / 2. + 0.5\n",
    "    \n",
    "    \n",
    "def generator(z):\n",
    "    '''\n",
    "        This function should define theano computational graph\n",
    "        for evaluating net(z), for `z` -- latent vector of shape [B x Z_dim]\n",
    "    '''\n",
    "    \n",
    "    f = pytorch_wrapper(NetWrapper(net),dtype=dtype)\n",
    "    out = f(z)\n",
    "    \n",
    "    return out\n",
    "\n",
    "import sys\n",
    "sys.path.append(\"./eval_gen/\")\n",
    "\n",
    "from sampling import samplers_32 as samplers\n",
    "lld, pf,finalstate = samplers.run_ais(generator, \n",
    "                                      X, \n",
    "                                      num_samples,\n",
    "                                      num_steps=10000, \n",
    "                                      sigma=0.03, \n",
    "                                      hdim=10, \n",
    "                                      L=10, \n",
    "                                      epsilon=0.01, \n",
    "                                      data='continuous',\n",
    "                                      prior=\"normal\")"
   ]
  }
 ],
 "metadata": {
  "kernelspec": {
   "display_name": "Python 2",
   "language": "python",
   "name": "python2"
  },
  "language_info": {
   "codemirror_mode": {
    "name": "ipython",
    "version": 2
   },
   "file_extension": ".py",
   "mimetype": "text/x-python",
   "name": "python",
   "nbconvert_exporter": "python",
   "pygments_lexer": "ipython2",
   "version": "2.7.13"
  }
 },
 "nbformat": 4,
 "nbformat_minor": 2
}
