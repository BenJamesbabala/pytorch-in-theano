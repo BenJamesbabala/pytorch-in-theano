{
 "cells": [
  {
   "cell_type": "code",
   "execution_count": null,
   "metadata": {
    "collapsed": true
   },
   "outputs": [],
   "source": [
    "import os\n",
    "os.environ['THEANORC'] = 'theanorc_cpu'\n",
    "os.environ['CUDA_VISIBLE_DEVICES'] = '0'\n",
    "\n",
    "import torch\n",
    "import torch.nn as nn\n",
    "import theano\n",
    "import numpy as np\n",
    "import theano \n",
    "import theano.tensor as T\n",
    "\n",
    "print (theano.__version__)"
   ]
  },
  {
   "cell_type": "code",
   "execution_count": null,
   "metadata": {
    "collapsed": true
   },
   "outputs": [],
   "source": [
    "from ops import pytorch_wrapper\n",
    "import sys\n",
    "sys.path.append(\"./eval_gen/\")\n",
    "torch.backends.cudnn.benchmark = True"
   ]
  },
  {
   "cell_type": "markdown",
   "metadata": {},
   "source": [
    "# Load data"
   ]
  },
  {
   "cell_type": "code",
   "execution_count": null,
   "metadata": {
    "collapsed": true
   },
   "outputs": [],
   "source": [
    "import h5py\n",
    "f = h5py.File('/sdh/data_fuel/mnist.hdf5')\n",
    "\n",
    "num_test = 24\n",
    "num_samples= 16\n",
    "\n",
    "X = f['features'].value[60000:]\n",
    "\n",
    "permutation = np.random.RandomState(seed=2919).permutation(X.shape[0])\n",
    "X= X[permutation][:num_test]"
   ]
  },
  {
   "cell_type": "markdown",
   "metadata": {},
   "source": [
    "# Load model"
   ]
  },
  {
   "cell_type": "code",
   "execution_count": null,
   "metadata": {
    "collapsed": true,
    "scrolled": true
   },
   "outputs": [],
   "source": [
    "dtype= torch.cuda.FloatTensor\n",
    "age_model = torch.load('netG_epoch_25.pth')\n",
    "age_model.eval()\n",
    "age_model.type(dtype)\n",
    "net = age_model\n",
    "\n",
    "class NetWrapper(nn.Module):\n",
    "    '''\n",
    "        The AIS code needs samples to be of shape (B x 32^2)\n",
    "        But my network produces (B x 32 x 32)\n",
    "        So I use this wrapper.\n",
    "    '''\n",
    "    def __init__(self, net):\n",
    "        super(NetWrapper, self).__init__()\n",
    "        self.net = net\n",
    "        \n",
    "    def forward(self, x):\n",
    "        return self.net(None, x.view(-1,10,1,1)).view(-1,32*32) / 2. + 0.5"
   ]
  },
  {
   "cell_type": "markdown",
   "metadata": {},
   "source": [
    "# Go"
   ]
  },
  {
   "cell_type": "code",
   "execution_count": null,
   "metadata": {
    "collapsed": true,
    "scrolled": true
   },
   "outputs": [],
   "source": [
    "def generator(z):\n",
    "    '''\n",
    "        This function should define theano computational graph\n",
    "        for evaluating net(z), for `z` -- latent vector of shape [B x Z_dim]\n",
    "    '''\n",
    "    \n",
    "    f = pytorch_wrapper(NetWrapper(net), dtype=dtype)\n",
    "    out = f(z)\n",
    "    \n",
    "    return out\n",
    "\n",
    "\n",
    "from sampling import samplers_32 as samplers\n",
    "lld, pf, finalstate = samplers.run_ais(generator, \n",
    "                                      X, \n",
    "                                      num_samples,\n",
    "                                      num_steps=10000, \n",
    "                                      sigma=0.03, \n",
    "                                      hdim=10, \n",
    "                                      L=10, \n",
    "                                      epsilon=0.01, \n",
    "                                      data='continuous',\n",
    "                                      prior=\"normal\")"
   ]
  }
 ],
 "metadata": {
  "kernelspec": {
   "display_name": "Python 2",
   "language": "python",
   "name": "python2"
  },
  "language_info": {
   "codemirror_mode": {
    "name": "ipython",
    "version": 2
   },
   "file_extension": ".py",
   "mimetype": "text/x-python",
   "name": "python",
   "nbconvert_exporter": "python",
   "pygments_lexer": "ipython2",
   "version": "2.7.13"
  }
 },
 "nbformat": 4,
 "nbformat_minor": 2
}
